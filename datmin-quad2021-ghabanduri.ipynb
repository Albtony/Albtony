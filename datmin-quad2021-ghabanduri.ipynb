{
 "cells": [
  {
   "cell_type": "code",
   "execution_count": 1,
   "id": "92158dd2",
   "metadata": {
    "execution": {
     "iopub.execute_input": "2022-03-27T12:35:15.945696Z",
     "iopub.status.busy": "2022-03-27T12:35:15.941629Z",
     "iopub.status.idle": "2022-03-27T12:35:15.960021Z",
     "shell.execute_reply": "2022-03-27T12:35:15.958702Z",
     "shell.execute_reply.started": "2021-11-09T13:18:48.052019Z"
    },
    "papermill": {
     "duration": 0.038955,
     "end_time": "2022-03-27T12:35:15.960360",
     "exception": false,
     "start_time": "2022-03-27T12:35:15.921405",
     "status": "completed"
    },
    "tags": []
   },
   "outputs": [
    {
     "name": "stdout",
     "output_type": "stream",
     "text": [
      "../input/quadrathlon2021/train.csv\n",
      "../input/quadrathlon2021/test.csv\n"
     ]
    }
   ],
   "source": [
    "# Set up filepaths\n",
    "import os \n",
    "inputFolder = '../input/' \n",
    "for root, directories, filenames in os.walk(inputFolder): \n",
    "    for filename in filenames: print(os.path.join(root,filename))"
   ]
  },
  {
   "cell_type": "code",
   "execution_count": 2,
   "id": "53ffd303",
   "metadata": {
    "_cell_guid": "b1076dfc-b9ad-4769-8c92-a6c4dae69d19",
    "_uuid": "8f2839f25d086af736a60e9eeb907d3b93b6e0e5",
    "execution": {
     "iopub.execute_input": "2022-03-27T12:35:15.986399Z",
     "iopub.status.busy": "2022-03-27T12:35:15.985621Z",
     "iopub.status.idle": "2022-03-27T12:35:17.108417Z",
     "shell.execute_reply": "2022-03-27T12:35:17.107705Z",
     "shell.execute_reply.started": "2021-11-09T13:18:48.061067Z"
    },
    "papermill": {
     "duration": 1.136898,
     "end_time": "2022-03-27T12:35:17.108625",
     "exception": false,
     "start_time": "2022-03-27T12:35:15.971727",
     "status": "completed"
    },
    "tags": []
   },
   "outputs": [],
   "source": [
    "import pandas as pd\n",
    "import matplotlib.pyplot as plt\n",
    "import numpy as np\n",
    "\n",
    "from sklearn.model_selection import train_test_split\n",
    "from sklearn.tree import DecisionTreeClassifier\n",
    "from sklearn.preprocessing import LabelEncoder\n",
    "from sklearn.metrics import accuracy_score, classification_report, confusion_matrix"
   ]
  },
  {
   "cell_type": "code",
   "execution_count": 3,
   "id": "357e8985",
   "metadata": {
    "execution": {
     "iopub.execute_input": "2022-03-27T12:35:17.130182Z",
     "iopub.status.busy": "2022-03-27T12:35:17.129419Z",
     "iopub.status.idle": "2022-03-27T12:35:17.281875Z",
     "shell.execute_reply": "2022-03-27T12:35:17.281221Z",
     "shell.execute_reply.started": "2021-11-09T13:18:48.074992Z"
    },
    "papermill": {
     "duration": 0.164628,
     "end_time": "2022-03-27T12:35:17.282046",
     "exception": false,
     "start_time": "2022-03-27T12:35:17.117418",
     "status": "completed"
    },
    "tags": []
   },
   "outputs": [],
   "source": [
    "olshop_file_path = '../input/quadrathlon2021/train.csv'\n",
    "olshop_data = pd.read_csv(olshop_file_path)\n",
    "\n",
    "test_data_filepath = '../input/quadrathlon2021/test.csv'\n",
    "test_data = pd.read_csv(test_data_filepath)"
   ]
  },
  {
   "cell_type": "code",
   "execution_count": 4,
   "id": "acb06d36",
   "metadata": {
    "execution": {
     "iopub.execute_input": "2022-03-27T12:35:17.320930Z",
     "iopub.status.busy": "2022-03-27T12:35:17.319885Z",
     "iopub.status.idle": "2022-03-27T12:35:17.380810Z",
     "shell.execute_reply": "2022-03-27T12:35:17.380209Z",
     "shell.execute_reply.started": "2021-11-09T13:18:48.170572Z"
    },
    "papermill": {
     "duration": 0.089489,
     "end_time": "2022-03-27T12:35:17.380967",
     "exception": false,
     "start_time": "2022-03-27T12:35:17.291478",
     "status": "completed"
    },
    "tags": []
   },
   "outputs": [],
   "source": [
    "# encoding used categorical data types to int\n",
    "cols_to_transform = ['Jenis_Kelamin', 'Bulan', 'Wilayah', 'Jenis_Traffic', 'Tipe_Pengunjung', 'Akhir_Pekan']\n",
    "le = LabelEncoder()\n",
    "for col in cols_to_transform:\n",
    "    olshop_data[col] = le.fit_transform(olshop_data[col].astype('str'))\n",
    "    test_data[col] = le.fit_transform(test_data[col].astype('str'))\n",
    "\n",
    "#classifying and splitting X and y var\n",
    "y = olshop_data.Checkout\n",
    "olshop_features = ['Jenis_Kelamin', 'Produk', 'Durasi_Produk', 'Informasional', 'Durasi_Informasional', 'Administratif', 'Login', 'Promo_Klik', 'Favorit_Klik', 'Favorit_Tambah', 'Keranjang_Klik', 'Keranjang_Tambah', 'Rate_Pentalan', 'Rate_Keluar', 'Nilai_Halaman', 'Bulan', 'Hari_Spesial', 'Akhir_Pekan', 'Wilayah', 'Jenis_Traffic', 'Tipe_Pengunjung']\n",
    "X = olshop_data[olshop_features]\n",
    "train_X, val_X, train_y, val_y = train_test_split(X, y, random_state=1)"
   ]
  },
  {
   "cell_type": "code",
   "execution_count": 5,
   "id": "9f71a39d",
   "metadata": {
    "execution": {
     "iopub.execute_input": "2022-03-27T12:35:17.407669Z",
     "iopub.status.busy": "2022-03-27T12:35:17.406623Z",
     "iopub.status.idle": "2022-03-27T12:35:17.442570Z",
     "shell.execute_reply": "2022-03-27T12:35:17.441879Z",
     "shell.execute_reply.started": "2021-11-09T13:18:48.239681Z"
    },
    "papermill": {
     "duration": 0.053461,
     "end_time": "2022-03-27T12:35:17.442711",
     "exception": false,
     "start_time": "2022-03-27T12:35:17.389250",
     "status": "completed"
    },
    "tags": []
   },
   "outputs": [
    {
     "name": "stdout",
     "output_type": "stream",
     "text": [
      "0.9606401384083045\n",
      "[[1916   45]\n",
      " [  46  305]]\n",
      "              precision    recall  f1-score   support\n",
      "\n",
      "       False       0.98      0.98      0.98      1961\n",
      "        True       0.87      0.87      0.87       351\n",
      "\n",
      "    accuracy                           0.96      2312\n",
      "   macro avg       0.92      0.92      0.92      2312\n",
      "weighted avg       0.96      0.96      0.96      2312\n",
      "\n"
     ]
    }
   ],
   "source": [
    "olshop_train_model = DecisionTreeClassifier(random_state=1)\n",
    "olshop_train_model.fit(train_X, train_y)\n",
    "olshop_train_preds = olshop_train_model.predict(val_X)\n",
    "\n",
    "print(accuracy_score(olshop_train_preds, val_y))\n",
    "print(confusion_matrix(val_y, olshop_train_preds))\n",
    "print(classification_report(val_y,olshop_train_preds))"
   ]
  },
  {
   "cell_type": "code",
   "execution_count": 6,
   "id": "e3403b63",
   "metadata": {
    "execution": {
     "iopub.execute_input": "2022-03-27T12:35:17.465860Z",
     "iopub.status.busy": "2022-03-27T12:35:17.465078Z",
     "iopub.status.idle": "2022-03-27T12:35:17.498758Z",
     "shell.execute_reply": "2022-03-27T12:35:17.498041Z",
     "shell.execute_reply.started": "2021-11-09T13:18:48.281307Z"
    },
    "papermill": {
     "duration": 0.047501,
     "end_time": "2022-03-27T12:35:17.498907",
     "exception": false,
     "start_time": "2022-03-27T12:35:17.451406",
     "status": "completed"
    },
    "tags": []
   },
   "outputs": [
    {
     "data": {
      "text/plain": [
       "DecisionTreeClassifier(random_state=1)"
      ]
     },
     "execution_count": 6,
     "metadata": {},
     "output_type": "execute_result"
    }
   ],
   "source": [
    "olshop_full_model = DecisionTreeClassifier(random_state=1)\n",
    "olshop_full_model.fit(X, y)"
   ]
  },
  {
   "cell_type": "code",
   "execution_count": 7,
   "id": "5344ed3c",
   "metadata": {
    "execution": {
     "iopub.execute_input": "2022-03-27T12:35:17.525525Z",
     "iopub.status.busy": "2022-03-27T12:35:17.524774Z",
     "iopub.status.idle": "2022-03-27T12:35:17.531825Z",
     "shell.execute_reply": "2022-03-27T12:35:17.532361Z",
     "shell.execute_reply.started": "2021-11-09T13:18:48.315345Z"
    },
    "papermill": {
     "duration": 0.023969,
     "end_time": "2022-03-27T12:35:17.532594",
     "exception": false,
     "start_time": "2022-03-27T12:35:17.508625",
     "status": "completed"
    },
    "tags": []
   },
   "outputs": [],
   "source": [
    "test_X = test_data[olshop_features]\n",
    "test_preds = olshop_full_model.predict(test_X)"
   ]
  },
  {
   "cell_type": "code",
   "execution_count": 8,
   "id": "1a5e84fb",
   "metadata": {
    "execution": {
     "iopub.execute_input": "2022-03-27T12:35:17.562091Z",
     "iopub.status.busy": "2022-03-27T12:35:17.561070Z",
     "iopub.status.idle": "2022-03-27T12:35:17.607854Z",
     "shell.execute_reply": "2022-03-27T12:35:17.606703Z",
     "shell.execute_reply.started": "2021-11-09T13:18:48.32721Z"
    },
    "papermill": {
     "duration": 0.064835,
     "end_time": "2022-03-27T12:35:17.608020",
     "exception": false,
     "start_time": "2022-03-27T12:35:17.543185",
     "status": "completed"
    },
    "tags": []
   },
   "outputs": [
    {
     "data": {
      "text/html": [
       "<div>\n",
       "<style scoped>\n",
       "    .dataframe tbody tr th:only-of-type {\n",
       "        vertical-align: middle;\n",
       "    }\n",
       "\n",
       "    .dataframe tbody tr th {\n",
       "        vertical-align: top;\n",
       "    }\n",
       "\n",
       "    .dataframe thead th {\n",
       "        text-align: right;\n",
       "    }\n",
       "</style>\n",
       "<table border=\"1\" class=\"dataframe\">\n",
       "  <thead>\n",
       "    <tr style=\"text-align: right;\">\n",
       "      <th></th>\n",
       "      <th>ID</th>\n",
       "      <th>Checkout</th>\n",
       "    </tr>\n",
       "  </thead>\n",
       "  <tbody>\n",
       "    <tr>\n",
       "      <th>count</th>\n",
       "      <td>3080</td>\n",
       "      <td>3080</td>\n",
       "    </tr>\n",
       "    <tr>\n",
       "      <th>unique</th>\n",
       "      <td>3080</td>\n",
       "      <td>2</td>\n",
       "    </tr>\n",
       "    <tr>\n",
       "      <th>top</th>\n",
       "      <td>06d52498-2b95-4f28-99d6-217c0e11bda5</td>\n",
       "      <td>False</td>\n",
       "    </tr>\n",
       "    <tr>\n",
       "      <th>freq</th>\n",
       "      <td>1</td>\n",
       "      <td>2685</td>\n",
       "    </tr>\n",
       "  </tbody>\n",
       "</table>\n",
       "</div>"
      ],
      "text/plain": [
       "                                          ID Checkout\n",
       "count                                   3080     3080\n",
       "unique                                  3080        2\n",
       "top     06d52498-2b95-4f28-99d6-217c0e11bda5    False\n",
       "freq                                       1     2685"
      ]
     },
     "execution_count": 8,
     "metadata": {},
     "output_type": "execute_result"
    }
   ],
   "source": [
    "output = pd.DataFrame({'ID': test_data.ID,\n",
    "                       'Checkout': test_preds})\n",
    "output.to_csv('submission.csv', index=False)\n",
    "submission = pd.read_csv('./submission.csv')\n",
    "submission.describe()"
   ]
  }
 ],
 "metadata": {
  "kernelspec": {
   "display_name": "Python 3",
   "language": "python",
   "name": "python3"
  },
  "language_info": {
   "codemirror_mode": {
    "name": "ipython",
    "version": 3
   },
   "file_extension": ".py",
   "mimetype": "text/x-python",
   "name": "python",
   "nbconvert_exporter": "python",
   "pygments_lexer": "ipython3",
   "version": "3.7.10"
  },
  "papermill": {
   "default_parameters": {},
   "duration": 11.804944,
   "end_time": "2022-03-27T12:35:18.534338",
   "environment_variables": {},
   "exception": null,
   "input_path": "__notebook__.ipynb",
   "output_path": "__notebook__.ipynb",
   "parameters": {},
   "start_time": "2022-03-27T12:35:06.729394",
   "version": "2.3.3"
  }
 },
 "nbformat": 4,
 "nbformat_minor": 5
}
